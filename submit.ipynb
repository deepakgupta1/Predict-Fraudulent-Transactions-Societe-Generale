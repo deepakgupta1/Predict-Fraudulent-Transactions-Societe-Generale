{
 "cells": [
  {
   "cell_type": "code",
   "execution_count": 293,
   "metadata": {
    "collapsed": true
   },
   "outputs": [],
   "source": [
    "import pandas as pd\n",
    "import numpy as np\n",
    "\n",
    "from sklearn.preprocessing import LabelEncoder\n",
    "from sklearn.metrics import roc_auc_score as auc\n",
    "from sklearn.model_selection import StratifiedKFold\n",
    "from sklearn.ensemble import RandomForestClassifier, ExtraTreesClassifier\n",
    "\n",
    "import xgboost as xgb\n",
    "from xgboost.sklearn import XGBClassifier\n",
    "\n",
    "import xgbfir\n",
    "\n",
    "import matplotlib.pyplot as plt\n",
    "\n",
    "from catboost import CatBoostClassifier"
   ]
  },
  {
   "cell_type": "code",
   "execution_count": 265,
   "metadata": {
    "collapsed": true
   },
   "outputs": [],
   "source": [
    "train = pd.read_csv('train.csv')\n",
    "test = pd.read_csv('test.csv')\n",
    "sample = pd.read_csv('sample_submissions.csv')"
   ]
  },
  {
   "cell_type": "code",
   "execution_count": 135,
   "metadata": {},
   "outputs": [
    {
     "data": {
      "text/plain": [
       "((348978, 51), (523466, 50))"
      ]
     },
     "execution_count": 135,
     "metadata": {},
     "output_type": "execute_result"
    }
   ],
   "source": [
    "train.shape, test.shape"
   ]
  },
  {
   "cell_type": "code",
   "execution_count": 4,
   "metadata": {
    "collapsed": true
   },
   "outputs": [
    {
     "data": {
      "text/html": [
       "<div>\n",
       "<style>\n",
       "    .dataframe thead tr:only-child th {\n",
       "        text-align: right;\n",
       "    }\n",
       "\n",
       "    .dataframe thead th {\n",
       "        text-align: left;\n",
       "    }\n",
       "\n",
       "    .dataframe tbody tr th {\n",
       "        vertical-align: top;\n",
       "    }\n",
       "</style>\n",
       "<table border=\"1\" class=\"dataframe\">\n",
       "  <thead>\n",
       "    <tr style=\"text-align: right;\">\n",
       "      <th></th>\n",
       "      <th>transaction_id</th>\n",
       "      <th>num_var_1</th>\n",
       "      <th>num_var_2</th>\n",
       "      <th>num_var_3</th>\n",
       "      <th>num_var_4</th>\n",
       "      <th>num_var_5</th>\n",
       "      <th>num_var_6</th>\n",
       "      <th>num_var_7</th>\n",
       "      <th>cat_var_1</th>\n",
       "      <th>cat_var_2</th>\n",
       "      <th>...</th>\n",
       "      <th>cat_var_34</th>\n",
       "      <th>cat_var_35</th>\n",
       "      <th>cat_var_36</th>\n",
       "      <th>cat_var_37</th>\n",
       "      <th>cat_var_38</th>\n",
       "      <th>cat_var_39</th>\n",
       "      <th>cat_var_40</th>\n",
       "      <th>cat_var_41</th>\n",
       "      <th>cat_var_42</th>\n",
       "      <th>target</th>\n",
       "    </tr>\n",
       "  </thead>\n",
       "  <tbody>\n",
       "    <tr>\n",
       "      <th>0</th>\n",
       "      <td>id_11</td>\n",
       "      <td>2.302632e-08</td>\n",
       "      <td>0.040182</td>\n",
       "      <td>0.0</td>\n",
       "      <td>1.800000e-07</td>\n",
       "      <td>2.302632e-08</td>\n",
       "      <td>2.368421e-08</td>\n",
       "      <td>1.115205e-08</td>\n",
       "      <td>NaN</td>\n",
       "      <td>ce</td>\n",
       "      <td>...</td>\n",
       "      <td>0</td>\n",
       "      <td>0</td>\n",
       "      <td>0</td>\n",
       "      <td>0</td>\n",
       "      <td>0</td>\n",
       "      <td>0</td>\n",
       "      <td>0</td>\n",
       "      <td>0</td>\n",
       "      <td>0</td>\n",
       "      <td>0</td>\n",
       "    </tr>\n",
       "    <tr>\n",
       "      <th>1</th>\n",
       "      <td>id_33</td>\n",
       "      <td>7.965789e-06</td>\n",
       "      <td>0.157872</td>\n",
       "      <td>0.0</td>\n",
       "      <td>2.105000e-06</td>\n",
       "      <td>2.769737e-07</td>\n",
       "      <td>7.965789e-06</td>\n",
       "      <td>2.433058e-06</td>\n",
       "      <td>da</td>\n",
       "      <td>tn</td>\n",
       "      <td>...</td>\n",
       "      <td>0</td>\n",
       "      <td>0</td>\n",
       "      <td>0</td>\n",
       "      <td>0</td>\n",
       "      <td>0</td>\n",
       "      <td>0</td>\n",
       "      <td>0</td>\n",
       "      <td>0</td>\n",
       "      <td>0</td>\n",
       "      <td>0</td>\n",
       "    </tr>\n",
       "    <tr>\n",
       "      <th>2</th>\n",
       "      <td>id_51</td>\n",
       "      <td>7.828947e-08</td>\n",
       "      <td>0.089140</td>\n",
       "      <td>0.0</td>\n",
       "      <td>3.550000e-07</td>\n",
       "      <td>4.671053e-08</td>\n",
       "      <td>1.052632e-07</td>\n",
       "      <td>4.276014e-07</td>\n",
       "      <td>gf</td>\n",
       "      <td>ce</td>\n",
       "      <td>...</td>\n",
       "      <td>0</td>\n",
       "      <td>0</td>\n",
       "      <td>0</td>\n",
       "      <td>0</td>\n",
       "      <td>0</td>\n",
       "      <td>0</td>\n",
       "      <td>0</td>\n",
       "      <td>0</td>\n",
       "      <td>0</td>\n",
       "      <td>0</td>\n",
       "    </tr>\n",
       "    <tr>\n",
       "      <th>3</th>\n",
       "      <td>id_54</td>\n",
       "      <td>7.894737e-08</td>\n",
       "      <td>0.227239</td>\n",
       "      <td>0.0</td>\n",
       "      <td>1.050000e-06</td>\n",
       "      <td>1.381579e-07</td>\n",
       "      <td>2.190789e-07</td>\n",
       "      <td>1.848054e-08</td>\n",
       "      <td>NaN</td>\n",
       "      <td>ce</td>\n",
       "      <td>...</td>\n",
       "      <td>0</td>\n",
       "      <td>0</td>\n",
       "      <td>0</td>\n",
       "      <td>0</td>\n",
       "      <td>0</td>\n",
       "      <td>0</td>\n",
       "      <td>0</td>\n",
       "      <td>0</td>\n",
       "      <td>0</td>\n",
       "      <td>0</td>\n",
       "    </tr>\n",
       "    <tr>\n",
       "      <th>4</th>\n",
       "      <td>id_62</td>\n",
       "      <td>3.321053e-06</td>\n",
       "      <td>0.160410</td>\n",
       "      <td>0.0</td>\n",
       "      <td>2.105000e-06</td>\n",
       "      <td>2.769737e-07</td>\n",
       "      <td>3.340789e-06</td>\n",
       "      <td>2.152983e-06</td>\n",
       "      <td>da</td>\n",
       "      <td>tn</td>\n",
       "      <td>...</td>\n",
       "      <td>0</td>\n",
       "      <td>0</td>\n",
       "      <td>0</td>\n",
       "      <td>0</td>\n",
       "      <td>0</td>\n",
       "      <td>0</td>\n",
       "      <td>0</td>\n",
       "      <td>0</td>\n",
       "      <td>0</td>\n",
       "      <td>0</td>\n",
       "    </tr>\n",
       "  </tbody>\n",
       "</table>\n",
       "<p>5 rows × 51 columns</p>\n",
       "</div>"
      ],
      "text/plain": [
       "  transaction_id     num_var_1  num_var_2  num_var_3     num_var_4  \\\n",
       "0          id_11  2.302632e-08   0.040182        0.0  1.800000e-07   \n",
       "1          id_33  7.965789e-06   0.157872        0.0  2.105000e-06   \n",
       "2          id_51  7.828947e-08   0.089140        0.0  3.550000e-07   \n",
       "3          id_54  7.894737e-08   0.227239        0.0  1.050000e-06   \n",
       "4          id_62  3.321053e-06   0.160410        0.0  2.105000e-06   \n",
       "\n",
       "      num_var_5     num_var_6     num_var_7 cat_var_1 cat_var_2  ...    \\\n",
       "0  2.302632e-08  2.368421e-08  1.115205e-08       NaN        ce  ...     \n",
       "1  2.769737e-07  7.965789e-06  2.433058e-06        da        tn  ...     \n",
       "2  4.671053e-08  1.052632e-07  4.276014e-07        gf        ce  ...     \n",
       "3  1.381579e-07  2.190789e-07  1.848054e-08       NaN        ce  ...     \n",
       "4  2.769737e-07  3.340789e-06  2.152983e-06        da        tn  ...     \n",
       "\n",
       "  cat_var_34 cat_var_35 cat_var_36 cat_var_37 cat_var_38 cat_var_39  \\\n",
       "0          0          0          0          0          0          0   \n",
       "1          0          0          0          0          0          0   \n",
       "2          0          0          0          0          0          0   \n",
       "3          0          0          0          0          0          0   \n",
       "4          0          0          0          0          0          0   \n",
       "\n",
       "  cat_var_40 cat_var_41 cat_var_42 target  \n",
       "0          0          0          0      0  \n",
       "1          0          0          0      0  \n",
       "2          0          0          0      0  \n",
       "3          0          0          0      0  \n",
       "4          0          0          0      0  \n",
       "\n",
       "[5 rows x 51 columns]"
      ]
     },
     "execution_count": 4,
     "metadata": {},
     "output_type": "execute_result"
    }
   ],
   "source": [
    "train.head()"
   ]
  },
  {
   "cell_type": "code",
   "execution_count": 136,
   "metadata": {},
   "outputs": [
    {
     "data": {
      "text/plain": [
       "0    311610\n",
       "1     37368\n",
       "Name: target, dtype: int64"
      ]
     },
     "execution_count": 136,
     "metadata": {},
     "output_type": "execute_result"
    }
   ],
   "source": [
    "train['target'].value_counts()"
   ]
  },
  {
   "cell_type": "code",
   "execution_count": 266,
   "metadata": {},
   "outputs": [
    {
     "data": {
      "text/plain": [
       "(872444, 51)"
      ]
     },
     "execution_count": 266,
     "metadata": {},
     "output_type": "execute_result"
    }
   ],
   "source": [
    "test['target'] = 0\n",
    "train_test = pd.concat([train, test])\n",
    "train_test.shape"
   ]
  },
  {
   "cell_type": "code",
   "execution_count": 270,
   "metadata": {
    "collapsed": true
   },
   "outputs": [
    {
     "data": {
      "text/html": [
       "<div>\n",
       "<style>\n",
       "    .dataframe thead tr:only-child th {\n",
       "        text-align: right;\n",
       "    }\n",
       "\n",
       "    .dataframe thead th {\n",
       "        text-align: left;\n",
       "    }\n",
       "\n",
       "    .dataframe tbody tr th {\n",
       "        vertical-align: top;\n",
       "    }\n",
       "</style>\n",
       "<table border=\"1\" class=\"dataframe\">\n",
       "  <thead>\n",
       "    <tr style=\"text-align: right;\">\n",
       "      <th></th>\n",
       "      <th>transaction_id</th>\n",
       "      <th>num_var_1</th>\n",
       "      <th>num_var_2</th>\n",
       "      <th>num_var_3</th>\n",
       "      <th>num_var_4</th>\n",
       "      <th>num_var_5</th>\n",
       "      <th>num_var_6</th>\n",
       "      <th>num_var_7</th>\n",
       "      <th>cat_var_1</th>\n",
       "      <th>cat_var_2</th>\n",
       "      <th>...</th>\n",
       "      <th>cat_var_34</th>\n",
       "      <th>cat_var_35</th>\n",
       "      <th>cat_var_36</th>\n",
       "      <th>cat_var_37</th>\n",
       "      <th>cat_var_38</th>\n",
       "      <th>cat_var_39</th>\n",
       "      <th>cat_var_40</th>\n",
       "      <th>cat_var_41</th>\n",
       "      <th>cat_var_42</th>\n",
       "      <th>target</th>\n",
       "    </tr>\n",
       "  </thead>\n",
       "  <tbody>\n",
       "    <tr>\n",
       "      <th>0</th>\n",
       "      <td>id_11</td>\n",
       "      <td>2.302632e-08</td>\n",
       "      <td>0.040182</td>\n",
       "      <td>0.0</td>\n",
       "      <td>1.800000e-07</td>\n",
       "      <td>2.302632e-08</td>\n",
       "      <td>2.368421e-08</td>\n",
       "      <td>1.115205e-08</td>\n",
       "      <td>NaN</td>\n",
       "      <td>ce</td>\n",
       "      <td>...</td>\n",
       "      <td>0</td>\n",
       "      <td>0</td>\n",
       "      <td>0</td>\n",
       "      <td>0</td>\n",
       "      <td>0</td>\n",
       "      <td>0</td>\n",
       "      <td>0</td>\n",
       "      <td>0</td>\n",
       "      <td>0</td>\n",
       "      <td>0</td>\n",
       "    </tr>\n",
       "    <tr>\n",
       "      <th>1</th>\n",
       "      <td>id_33</td>\n",
       "      <td>7.965789e-06</td>\n",
       "      <td>0.157872</td>\n",
       "      <td>0.0</td>\n",
       "      <td>2.105000e-06</td>\n",
       "      <td>2.769737e-07</td>\n",
       "      <td>7.965789e-06</td>\n",
       "      <td>2.433058e-06</td>\n",
       "      <td>da</td>\n",
       "      <td>tn</td>\n",
       "      <td>...</td>\n",
       "      <td>0</td>\n",
       "      <td>0</td>\n",
       "      <td>0</td>\n",
       "      <td>0</td>\n",
       "      <td>0</td>\n",
       "      <td>0</td>\n",
       "      <td>0</td>\n",
       "      <td>0</td>\n",
       "      <td>0</td>\n",
       "      <td>0</td>\n",
       "    </tr>\n",
       "    <tr>\n",
       "      <th>2</th>\n",
       "      <td>id_51</td>\n",
       "      <td>7.828947e-08</td>\n",
       "      <td>0.089140</td>\n",
       "      <td>0.0</td>\n",
       "      <td>3.550000e-07</td>\n",
       "      <td>4.671053e-08</td>\n",
       "      <td>1.052632e-07</td>\n",
       "      <td>4.276014e-07</td>\n",
       "      <td>gf</td>\n",
       "      <td>ce</td>\n",
       "      <td>...</td>\n",
       "      <td>0</td>\n",
       "      <td>0</td>\n",
       "      <td>0</td>\n",
       "      <td>0</td>\n",
       "      <td>0</td>\n",
       "      <td>0</td>\n",
       "      <td>0</td>\n",
       "      <td>0</td>\n",
       "      <td>0</td>\n",
       "      <td>0</td>\n",
       "    </tr>\n",
       "    <tr>\n",
       "      <th>3</th>\n",
       "      <td>id_54</td>\n",
       "      <td>7.894737e-08</td>\n",
       "      <td>0.227239</td>\n",
       "      <td>0.0</td>\n",
       "      <td>1.050000e-06</td>\n",
       "      <td>1.381579e-07</td>\n",
       "      <td>2.190789e-07</td>\n",
       "      <td>1.848054e-08</td>\n",
       "      <td>NaN</td>\n",
       "      <td>ce</td>\n",
       "      <td>...</td>\n",
       "      <td>0</td>\n",
       "      <td>0</td>\n",
       "      <td>0</td>\n",
       "      <td>0</td>\n",
       "      <td>0</td>\n",
       "      <td>0</td>\n",
       "      <td>0</td>\n",
       "      <td>0</td>\n",
       "      <td>0</td>\n",
       "      <td>0</td>\n",
       "    </tr>\n",
       "    <tr>\n",
       "      <th>4</th>\n",
       "      <td>id_62</td>\n",
       "      <td>3.321053e-06</td>\n",
       "      <td>0.160410</td>\n",
       "      <td>0.0</td>\n",
       "      <td>2.105000e-06</td>\n",
       "      <td>2.769737e-07</td>\n",
       "      <td>3.340789e-06</td>\n",
       "      <td>2.152983e-06</td>\n",
       "      <td>da</td>\n",
       "      <td>tn</td>\n",
       "      <td>...</td>\n",
       "      <td>0</td>\n",
       "      <td>0</td>\n",
       "      <td>0</td>\n",
       "      <td>0</td>\n",
       "      <td>0</td>\n",
       "      <td>0</td>\n",
       "      <td>0</td>\n",
       "      <td>0</td>\n",
       "      <td>0</td>\n",
       "      <td>0</td>\n",
       "    </tr>\n",
       "  </tbody>\n",
       "</table>\n",
       "<p>5 rows × 51 columns</p>\n",
       "</div>"
      ],
      "text/plain": [
       "  transaction_id     num_var_1  num_var_2  num_var_3     num_var_4  \\\n",
       "0          id_11  2.302632e-08   0.040182        0.0  1.800000e-07   \n",
       "1          id_33  7.965789e-06   0.157872        0.0  2.105000e-06   \n",
       "2          id_51  7.828947e-08   0.089140        0.0  3.550000e-07   \n",
       "3          id_54  7.894737e-08   0.227239        0.0  1.050000e-06   \n",
       "4          id_62  3.321053e-06   0.160410        0.0  2.105000e-06   \n",
       "\n",
       "      num_var_5     num_var_6     num_var_7 cat_var_1 cat_var_2  ...    \\\n",
       "0  2.302632e-08  2.368421e-08  1.115205e-08       NaN        ce  ...     \n",
       "1  2.769737e-07  7.965789e-06  2.433058e-06        da        tn  ...     \n",
       "2  4.671053e-08  1.052632e-07  4.276014e-07        gf        ce  ...     \n",
       "3  1.381579e-07  2.190789e-07  1.848054e-08       NaN        ce  ...     \n",
       "4  2.769737e-07  3.340789e-06  2.152983e-06        da        tn  ...     \n",
       "\n",
       "  cat_var_34 cat_var_35 cat_var_36 cat_var_37 cat_var_38 cat_var_39  \\\n",
       "0          0          0          0          0          0          0   \n",
       "1          0          0          0          0          0          0   \n",
       "2          0          0          0          0          0          0   \n",
       "3          0          0          0          0          0          0   \n",
       "4          0          0          0          0          0          0   \n",
       "\n",
       "  cat_var_40 cat_var_41 cat_var_42 target  \n",
       "0          0          0          0      0  \n",
       "1          0          0          0      0  \n",
       "2          0          0          0      0  \n",
       "3          0          0          0      0  \n",
       "4          0          0          0      0  \n",
       "\n",
       "[5 rows x 51 columns]"
      ]
     },
     "execution_count": 270,
     "metadata": {},
     "output_type": "execute_result"
    }
   ],
   "source": [
    "train_test.head()"
   ]
  },
  {
   "cell_type": "code",
   "execution_count": 267,
   "metadata": {
    "collapsed": true
   },
   "outputs": [],
   "source": [
    "predictors = [column for column in train_test.columns if column not in ['transaction_id', 'target']] \n",
    "train_test['num_missing_vals'] = train_test.isnull().sum(axis=1)\n",
    "train_test['num_zeros'] = (train_test[predictors] == 0).astype(int).sum(axis=1)\n",
    "train_test['num_ones'] = (train_test[predictors] == 1).astype(int).sum(axis=1)"
   ]
  },
  {
   "cell_type": "code",
   "execution_count": 222,
   "metadata": {
    "collapsed": true
   },
   "outputs": [
    {
     "name": "stdout",
     "output_type": "stream",
     "text": [
      "<class 'pandas.core.frame.DataFrame'>\n",
      "Int64Index: 872444 entries, 0 to 523465\n",
      "Data columns (total 54 columns):\n",
      "transaction_id      872444 non-null object\n",
      "num_var_1           872444 non-null float64\n",
      "num_var_2           872444 non-null float64\n",
      "num_var_3           872444 non-null float64\n",
      "num_var_4           872444 non-null float64\n",
      "num_var_5           872444 non-null float64\n",
      "num_var_6           872444 non-null float64\n",
      "num_var_7           872444 non-null float64\n",
      "cat_var_1           837970 non-null object\n",
      "cat_var_2           872444 non-null object\n",
      "cat_var_3           775229 non-null object\n",
      "cat_var_4           872444 non-null object\n",
      "cat_var_5           872444 non-null object\n",
      "cat_var_6           850501 non-null object\n",
      "cat_var_7           872444 non-null object\n",
      "cat_var_8           754568 non-null object\n",
      "cat_var_9           872444 non-null object\n",
      "cat_var_10          872444 non-null object\n",
      "cat_var_11          872444 non-null object\n",
      "cat_var_12          872444 non-null object\n",
      "cat_var_13          872444 non-null object\n",
      "cat_var_14          872444 non-null object\n",
      "cat_var_15          872444 non-null object\n",
      "cat_var_16          872444 non-null object\n",
      "cat_var_17          872444 non-null object\n",
      "cat_var_18          872444 non-null object\n",
      "cat_var_19          872444 non-null int64\n",
      "cat_var_20          872444 non-null int64\n",
      "cat_var_21          872444 non-null int64\n",
      "cat_var_22          872444 non-null int64\n",
      "cat_var_23          872444 non-null int64\n",
      "cat_var_24          872444 non-null int64\n",
      "cat_var_25          872444 non-null int64\n",
      "cat_var_26          872444 non-null int64\n",
      "cat_var_27          872444 non-null int64\n",
      "cat_var_28          872444 non-null int64\n",
      "cat_var_29          872444 non-null int64\n",
      "cat_var_30          872444 non-null int64\n",
      "cat_var_31          872444 non-null int64\n",
      "cat_var_32          872444 non-null int64\n",
      "cat_var_33          872444 non-null int64\n",
      "cat_var_34          872444 non-null int64\n",
      "cat_var_35          872444 non-null int64\n",
      "cat_var_36          872444 non-null int64\n",
      "cat_var_37          872444 non-null int64\n",
      "cat_var_38          872444 non-null int64\n",
      "cat_var_39          872444 non-null int64\n",
      "cat_var_40          872444 non-null int64\n",
      "cat_var_41          872444 non-null int64\n",
      "cat_var_42          872444 non-null int64\n",
      "target              872444 non-null int64\n",
      "num_missing_vals    872444 non-null int64\n",
      "num_zeros           872444 non-null int64\n",
      "num_ones            872444 non-null int64\n",
      "dtypes: float64(7), int64(28), object(19)\n",
      "memory usage: 366.1+ MB\n"
     ]
    }
   ],
   "source": [
    "train_test.info()"
   ]
  },
  {
   "cell_type": "code",
   "execution_count": 268,
   "metadata": {
    "collapsed": true
   },
   "outputs": [],
   "source": [
    "missing_cols = ['cat_var_1', 'cat_var_3', 'cat_var_6', 'cat_var_8']\n",
    "for missing_col in missing_cols:\n",
    "    train_test[missing_col].fillna(train_test[missing_col].mode()[0], inplace=True)\n",
    "    train[missing_col].fillna(train[missing_col].mode()[0], inplace=True)"
   ]
  },
  {
   "cell_type": "code",
   "execution_count": 269,
   "metadata": {
    "collapsed": true
   },
   "outputs": [],
   "source": [
    "for i in [6, 13, 17, 18, 14, 10, 19, 5, 12, 9, 24, 11, 16, 15, 21, 4, 23]:\n",
    "    temp = pd.DataFrame()\n",
    "    temp[['cat_var_' + str(i), 'target_encode_cat_' + str(i)]] = train.groupby('cat_var_' + str(i))['target'].mean().reset_index()\n",
    "    train_test = train_test.merge(temp, on='cat_var_' + str(i), how='left')"
   ]
  },
  {
   "cell_type": "code",
   "execution_count": 96,
   "metadata": {
    "collapsed": true
   },
   "outputs": [
    {
     "name": "stdout",
     "output_type": "stream",
     "text": [
      "'cat_var_0', 'cat_var_1', 'cat_var_2', 'cat_var_3', 'target_encode_cat_4', 'target_encode_cat_5', 'target_encode_cat_6', 'cat_var_7', 'cat_var_8', 'target_encode_cat_9', 'target_encode_cat_10', 'target_encode_cat_11', 'target_encode_cat_12', 'target_encode_cat_13', 'target_encode_cat_14', 'target_encode_cat_15', 'target_encode_cat_16', 'target_encode_cat_17', 'target_encode_cat_18', 'target_encode_cat_19', 'cat_var_20', 'target_encode_cat_21', 'cat_var_22', 'target_encode_cat_23', 'target_encode_cat_24', 'cat_var_25', 'cat_var_26', 'cat_var_27', 'cat_var_28', 'cat_var_29', 'cat_var_30', 'cat_var_31', 'cat_var_32', 'cat_var_33', 'cat_var_34', 'cat_var_35', 'cat_var_36', 'cat_var_37', 'cat_var_38', 'cat_var_39', 'cat_var_40', 'cat_var_41', 'cat_var_42',\n"
     ]
    }
   ],
   "source": [
    "l = [6, 13, 17, 18, 14, 10, 19, 5, 12, 9, 24, 11, 16, 15, 21, 4, 23]\n",
    "for i in range(43):\n",
    "    if i in l:\n",
    "        print '\\'target_encode_cat_' + str(i) + '\\',',\n",
    "    else:\n",
    "        print '\\'cat_var_' + str(i) + '\\',',"
   ]
  },
  {
   "cell_type": "code",
   "execution_count": 270,
   "metadata": {},
   "outputs": [
    {
     "data": {
      "text/plain": [
       "58"
      ]
     },
     "execution_count": 270,
     "metadata": {},
     "output_type": "execute_result"
    }
   ],
   "source": [
    "target_encode_predictors = ['transaction_num', 'num_var_1', 'num_var_2', 'num_var_3', 'num_var_4', 'num_var_5', 'num_var_6', 'num_var_7', 'cat_var_1', 'cat_var_2', 'cat_var_3', 'target_encode_cat_4', 'target_encode_cat_5', 'target_encode_cat_6', 'cat_var_7', 'cat_var_8', 'target_encode_cat_9', 'target_encode_cat_10', 'target_encode_cat_11', 'target_encode_cat_12', 'target_encode_cat_13', 'target_encode_cat_14', 'target_encode_cat_15', 'target_encode_cat_16', 'target_encode_cat_17', 'target_encode_cat_18', 'target_encode_cat_19', 'cat_var_20', 'target_encode_cat_21', 'cat_var_22', 'target_encode_cat_23', 'target_encode_cat_24', 'cat_var_25', 'cat_var_26', 'cat_var_27', 'cat_var_28', 'cat_var_29', 'cat_var_30', 'cat_var_31', 'cat_var_32', 'cat_var_33', 'cat_var_34', 'cat_var_35', 'cat_var_36', 'cat_var_37', 'cat_var_38', 'cat_var_39', 'cat_var_40', 'cat_var_41', 'cat_var_42', 'num_missing_vals', 'num_zeros', 'num_ones', 'mean_num_var_7', 'num_var_7_product_1', 'num_var_7_sum_1', 'num_var_7_diff_1', 'num_var_7_product_2']"
   ]
  },
  {
   "cell_type": "code",
   "execution_count": 271,
   "metadata": {
    "collapsed": true
   },
   "outputs": [
    {
     "name": "stdout",
     "output_type": "stream",
     "text": [
      "cat_var_1\n",
      "cat_var_2\n",
      "cat_var_3\n",
      "cat_var_4\n",
      "cat_var_5\n",
      "cat_var_6\n",
      "cat_var_7\n",
      "cat_var_8\n",
      "cat_var_9\n",
      "cat_var_10\n",
      "cat_var_11\n",
      "cat_var_12\n",
      "cat_var_13\n",
      "cat_var_14\n",
      "cat_var_15\n",
      "cat_var_16\n",
      "cat_var_17\n",
      "cat_var_18\n"
     ]
    }
   ],
   "source": [
    "for column in train_test.columns:\n",
    "    if column == 'transaction_id' or train_test[column].dtype != 'O':\n",
    "        continue\n",
    "    print column\n",
    "    le = LabelEncoder()\n",
    "    train_test[column] = le.fit_transform(train_test[column])"
   ]
  },
  {
   "cell_type": "code",
   "execution_count": 272,
   "metadata": {
    "collapsed": true
   },
   "outputs": [],
   "source": [
    "temp = pd.DataFrame()\n",
    "temp[['cat_var_8', 'mean_num_var_7']] = train_test.groupby('cat_var_8')['num_var_7'].mean().reset_index()\n",
    "train_test = train_test.merge(temp, on='cat_var_8', how='left')"
   ]
  },
  {
   "cell_type": "code",
   "execution_count": 273,
   "metadata": {
    "collapsed": true
   },
   "outputs": [],
   "source": [
    "train_test['transaction_num'] = train_test['transaction_id'].apply(lambda x: int(x[3:]))"
   ]
  },
  {
   "cell_type": "code",
   "execution_count": 274,
   "metadata": {
    "collapsed": true
   },
   "outputs": [],
   "source": [
    "train_test['num_var_7_product_1'] = train_test['num_var_7'] * train_test['num_var_1']\n",
    "train_test['num_var_7_sum_1'] = train_test['num_var_7'] + train_test['num_var_1']\n",
    "train_test['num_var_7_diff_1'] = train_test['num_var_7'] - train_test['num_var_1']"
   ]
  },
  {
   "cell_type": "code",
   "execution_count": 275,
   "metadata": {
    "collapsed": true
   },
   "outputs": [],
   "source": [
    "train_test['num_var_7_product_2'] = train_test['num_var_7'] * train_test['num_var_2']"
   ]
  },
  {
   "cell_type": "code",
   "execution_count": 205,
   "metadata": {
    "collapsed": true
   },
   "outputs": [],
   "source": [
    "temp = pd.DataFrame()\n",
    "temp[['cat_var_8', 'num_cat_var_8']] = train_test['cat_var_8'].value_counts().reset_index()\n",
    "train_test = train_test.merge(temp, on='cat_var_8', how='left')"
   ]
  },
  {
   "cell_type": "code",
   "execution_count": 214,
   "metadata": {
    "collapsed": true
   },
   "outputs": [],
   "source": [
    "temp = pd.DataFrame()\n",
    "temp[['cat_var_3', 'num_cat_var_3']] = train_test['cat_var_3'].value_counts().reset_index()\n",
    "train_test = train_test.merge(temp, on='cat_var_3', how='left')"
   ]
  },
  {
   "cell_type": "code",
   "execution_count": 222,
   "metadata": {
    "collapsed": true
   },
   "outputs": [],
   "source": [
    "temp = pd.DataFrame()\n",
    "temp[['cat_var_1', 'num_cat_var_1']] = train_test['cat_var_1'].value_counts().reset_index()\n",
    "train_test = train_test.merge(temp, on='cat_var_1', how='left')"
   ]
  },
  {
   "cell_type": "code",
   "execution_count": 276,
   "metadata": {
    "collapsed": true
   },
   "outputs": [],
   "source": [
    "count_columns = [1, 2, 3, 6, 7, 8, 10, 13]\n",
    "for count_column in count_columns:\n",
    "    temp = pd.DataFrame()\n",
    "    temp[['cat_var_' + str(count_column), 'num_cat_var_' + str(count_column)]] = train_test['cat_var_' + str(count_column)].value_counts().reset_index()\n",
    "    train_test = train_test.merge(temp, on='cat_var_' + str(count_column), how='left')"
   ]
  },
  {
   "cell_type": "code",
   "execution_count": 277,
   "metadata": {
    "collapsed": true
   },
   "outputs": [],
   "source": [
    "count_predictors = ['num_var_1', 'num_var_2', 'num_var_3', 'num_var_4',\n",
    " 'num_var_5', 'num_var_6', 'num_var_7', 'num_cat_var_1',\n",
    " 'num_cat_var_2', 'num_cat_var_3', 'cat_var_4', 'cat_var_5',\n",
    " 'num_cat_var_6', 'num_cat_var_7', 'num_cat_var_8', 'cat_var_9',\n",
    " 'num_cat_var_10', 'cat_var_11', 'cat_var_12', 'num_cat_var_13',\n",
    " 'cat_var_14', 'cat_var_15', 'cat_var_16', 'cat_var_17',\n",
    " 'cat_var_18', 'cat_var_19', 'cat_var_20', 'cat_var_21',\n",
    " 'cat_var_22', 'cat_var_23', 'cat_var_24', 'cat_var_25',\n",
    " 'cat_var_26', 'cat_var_27', 'cat_var_28', 'cat_var_29', 'cat_var_30', 'cat_var_31',\n",
    " 'cat_var_32', 'cat_var_33', 'cat_var_34', 'cat_var_35',\n",
    " 'cat_var_36', 'cat_var_37', 'cat_var_38', 'cat_var_39',\n",
    " 'cat_var_40', 'cat_var_41', 'cat_var_42', 'num_missing_vals',\n",
    " 'num_zeros', 'num_ones', 'mean_num_var_7', 'transaction_num',\n",
    " 'num_var_7_product_1', 'num_var_7_sum_1',\n",
    " 'num_var_7_diff_1', 'num_var_7_product_2']"
   ]
  },
  {
   "cell_type": "code",
   "execution_count": 279,
   "metadata": {},
   "outputs": [
    {
     "name": "stdout",
     "output_type": "stream",
     "text": [
      "58\n"
     ]
    }
   ],
   "source": [
    "predictors = ['num_var_1', 'num_var_2', 'num_var_3', 'num_var_4',\n",
    " 'num_var_5', 'num_var_6', 'num_var_7', 'cat_var_1',\n",
    " 'cat_var_2', 'cat_var_4', 'cat_var_5',\n",
    " 'cat_var_6', 'cat_var_7', 'cat_var_9',\n",
    " 'cat_var_10', 'cat_var_11', 'cat_var_12', 'cat_var_13',\n",
    " 'cat_var_14', 'cat_var_15', 'cat_var_16', 'cat_var_17',\n",
    " 'cat_var_18', 'cat_var_19', 'cat_var_20', 'cat_var_21',\n",
    " 'cat_var_22', 'cat_var_23', 'cat_var_24', 'cat_var_25',\n",
    " 'cat_var_26', 'cat_var_27', 'cat_var_28', 'cat_var_29', 'cat_var_30', 'cat_var_31',\n",
    " 'cat_var_32', 'cat_var_33', 'cat_var_34', 'cat_var_35',\n",
    " 'cat_var_36', 'cat_var_37', 'cat_var_38', 'cat_var_39',\n",
    " 'cat_var_40', 'cat_var_41', 'cat_var_42', 'num_missing_vals',\n",
    " 'num_zeros', 'num_ones', 'mean_num_var_7', 'transaction_num',\n",
    " 'num_var_7_product_1', 'num_var_7_sum_1',\n",
    " 'num_var_7_diff_1', 'num_var_7_product_2', 'num_cat_var_8', 'num_cat_var_3']\n",
    "train = train_test[:train.shape[0]]\n",
    "test = train_test[train.shape[0]:]\n",
    "train.shape, test.shape\n",
    "print len(predictors)"
   ]
  },
  {
   "cell_type": "code",
   "execution_count": 305,
   "metadata": {
    "collapsed": true
   },
   "outputs": [],
   "source": [
    "df_train = train[target_encode_predictors].values\n",
    "Y = train['target'].values\n",
    "df_test = test[target_encode_predictors].values"
   ]
  },
  {
   "cell_type": "code",
   "execution_count": 306,
   "metadata": {},
   "outputs": [
    {
     "name": "stdout",
     "output_type": "stream",
     "text": [
      "Fold 1\n",
      "[0]\ttrain-auc:0.698748\teval-auc:0.698814\n",
      "Multiple eval metrics have been passed: 'eval-auc' will be used for early stopping.\n",
      "\n",
      "Will train until eval-auc hasn't improved in 50 rounds.\n",
      "Stopping. Best iteration:\n",
      "[279]\ttrain-auc:0.786025\teval-auc:0.73241\n",
      "\n",
      "score:  0.732410339219\n",
      "Fold 2\n",
      "[0]\ttrain-auc:0.706056\teval-auc:0.699573\n",
      "Multiple eval metrics have been passed: 'eval-auc' will be used for early stopping.\n",
      "\n",
      "Will train until eval-auc hasn't improved in 50 rounds.\n",
      "Stopping. Best iteration:\n",
      "[70]\ttrain-auc:0.738815\teval-auc:0.722259\n",
      "\n",
      "score:  0.72225856585\n",
      "Fold 3\n",
      "[0]\ttrain-auc:0.703632\teval-auc:0.708977\n",
      "Multiple eval metrics have been passed: 'eval-auc' will be used for early stopping.\n",
      "\n",
      "Will train until eval-auc hasn't improved in 50 rounds.\n",
      "Stopping. Best iteration:\n",
      "[193]\ttrain-auc:0.763728\teval-auc:0.735844\n",
      "\n",
      "score:  0.735844002692\n",
      "Fold 4\n",
      "[0]\ttrain-auc:0.698249\teval-auc:0.700059\n",
      "Multiple eval metrics have been passed: 'eval-auc' will be used for early stopping.\n",
      "\n",
      "Will train until eval-auc hasn't improved in 50 rounds.\n",
      "Stopping. Best iteration:\n",
      "[135]\ttrain-auc:0.751175\teval-auc:0.732824\n",
      "\n",
      "score:  0.732823560022\n",
      "Fold 5\n",
      "[0]\ttrain-auc:0.699025\teval-auc:0.695772\n",
      "Multiple eval metrics have been passed: 'eval-auc' will be used for early stopping.\n",
      "\n",
      "Will train until eval-auc hasn't improved in 50 rounds.\n",
      "Stopping. Best iteration:\n",
      "[60]\ttrain-auc:0.734657\teval-auc:0.730184\n",
      "\n",
      "score:  0.730183686248\n",
      "0.730704030806\n",
      "0.754880120492\n",
      "148.4\n",
      "Wall time: 7min 8s\n"
     ]
    }
   ],
   "source": [
    "%%time\n",
    "\n",
    "oof_train=pd.DataFrame({'transaction_id': train['transaction_id'].values, 'target':0})\n",
    "best=[]\n",
    "score=[]\n",
    "train_score = []\n",
    "\n",
    "kfolds = 5\n",
    "nrounds = 2000\n",
    "skf = StratifiedKFold( n_splits=kfolds, shuffle=True, random_state=123)\n",
    "i=0\n",
    "for train_index, test_index in skf.split(df_train, Y):\n",
    "    print('Fold {0}'.format(i + 1))\n",
    "    X_train, X_val = df_train[train_index], df_train[test_index]\n",
    "    y_train, y_val = Y[train_index],Y[test_index]\n",
    "\n",
    "    dtrain = xgb.DMatrix(X_train,y_train)\n",
    "    dval = xgb.DMatrix(X_val,y_val)\n",
    "    watchlist = [(dtrain, 'train'), (dval, 'eval')]\n",
    "\n",
    "    gbdt = xgb.train(xgb_params, dtrain, nrounds, watchlist, verbose_eval=1000, early_stopping_rounds=50)  \n",
    "    bst=gbdt.best_ntree_limit\n",
    "    pred=gbdt.predict(dval, ntree_limit=bst)\n",
    "        \n",
    "    oof_train.loc[test_index,\"target\"]= pred\n",
    "    \n",
    "    scr=auc(y_val, pred) \n",
    "    train_score.append(auc(y_train, gbdt.predict(dtrain, ntree_limit=bst)))\n",
    "    print 'score: ', scr\n",
    "    \n",
    "    best.append(bst)\n",
    "    score.append(scr)\n",
    "    i+=1\n",
    "\n",
    "print(np.mean(score))\n",
    "print(np.mean(train_score))\n",
    "print(np.mean(best))\n",
    "\n",
    "oof_train.to_csv('xgb_oof_target_encode.csv', index=False)"
   ]
  },
  {
   "cell_type": "code",
   "execution_count": 307,
   "metadata": {
    "collapsed": true
   },
   "outputs": [],
   "source": [
    "best_nrounds=int(round(np.mean(best)))\n",
    "X_train=xgb.DMatrix(df_train,Y)\n",
    "X_test=xgb.DMatrix(df_test)\n",
    "\n",
    "gbdt = xgb.train(xgb_params, X_train, best_nrounds, verbose_eval=1)\n",
    "pred=gbdt.predict(X_test)\n",
    "        \n",
    "submit=pd.DataFrame()\n",
    "submit['transaction_id'] = test['transaction_id'].values\n",
    "submit['target'] = pred\n",
    "\n",
    "submit.to_csv('xgb_submit.csv', index=False)"
   ]
  }
 ],
 "metadata": {
  "kernelspec": {
   "display_name": "Python 3",
   "language": "python",
   "name": "python3"
  },
  "language_info": {
   "codemirror_mode": {
    "name": "ipython",
    "version": 3
   },
   "file_extension": ".py",
   "mimetype": "text/x-python",
   "name": "python",
   "nbconvert_exporter": "python",
   "pygments_lexer": "ipython3",
   "version": "3.7.0"
  }
 },
 "nbformat": 4,
 "nbformat_minor": 2
}
